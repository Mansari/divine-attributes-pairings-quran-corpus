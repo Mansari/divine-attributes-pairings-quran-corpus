{
  "nbformat": 4,
  "nbformat_minor": 0,
  "metadata": {
    "colab": {
      "provenance": [],
      "authorship_tag": "ABX9TyMrH+M1mtdy7KWAeF/GL9T1",
      "include_colab_link": true
    },
    "kernelspec": {
      "name": "python3",
      "display_name": "Python 3"
    },
    "language_info": {
      "name": "python"
    }
  },
  "cells": [
    {
      "cell_type": "markdown",
      "metadata": {
        "id": "view-in-github",
        "colab_type": "text"
      },
      "source": [
        "<a href=\"https://colab.research.google.com/github/Mansari/pairings-of-beautiful-names-of-allah-in-quran/blob/main/pairings_of_beautiful_names_of_allah_in_quran.ipynb\" target=\"_parent\"><img src=\"https://colab.research.google.com/assets/colab-badge.svg\" alt=\"Open In Colab\"/></a>"
      ]
    },
    {
      "cell_type": "markdown",
      "source": [
        "# Exploring Pairings of Allah's 99 Names in the Quranic Corpus\n",
        "\n",
        "> NOTE: This project is a preliminary exploration driven by my personal interest in gaining a deeper understanding of the Quran. As I am not a scholar, please review the contents critically and apply your own judgment in its interpretation and use.\n",
        "\n",
        "## Background\n",
        "\n",
        "My fascination with the pairings of Allah SWT's beautiful names in the Quran has driven me to delve deeper into their significance. Consider, for instance, the pairing of السميع العليم (As-Sami' Al-Alim) in Surat An-Nisa, Aya 220 ([26:220](https://quran.com/26/220)). What profound insights might we glean from the deliberate coupling of these specific names by Allah SWT? This notebook documents my journey to programmatically identify and analyze these pairings.\n",
        "\n",
        "## Usage\n",
        "\n",
        "Designed as both a tutorial and a tool, this notebook leverages open-source resources to systematically analyze the Quranic corpus using Python. While executing the entire notebook produces a file with the final results, I encourage a step-by-step walkthrough to fully grasp the underlying process.\n",
        "\n",
        "## License\n",
        "\n",
        "This code is open for use in personal projects, adhering to the stipulations of the [Quran CSV](https://github.com/azvox/quran-csv/blob/master/resources/README.md) license. Your adherence to these guidelines is appreciated.\n",
        "\n",
        "## Contact\n",
        "\n",
        "For any queries or discussions, feel free to reach out to me via [email](mailto:mohammad.ansari.ca@gmail.com) or connect on [LinkedIn](https://www.linkedin.com)\n"
      ],
      "metadata": {
        "id": "lZtKrI3PT_O1"
      }
    },
    {
      "cell_type": "markdown",
      "source": [
        "## The Journey Begins\n",
        "\n",
        "Our first step in this exploratory journey involves acquiring the foundational data. We will start by downloading the Quran corpus in CSV format. This critical resource is made available through the generosity of contributors on the [Quran CSV Github](https://github.com/azvox/quran-csv/)\n"
      ],
      "metadata": {
        "id": "8H23KuLnFZ-m"
      }
    },
    {
      "cell_type": "markdown",
      "source": [
        "### Downloading the Quran Corpus\n",
        "To download the Quran corpus in CSV format, execute the following command:\n"
      ],
      "metadata": {
        "id": "S0jE8ksZcn-m"
      }
    },
    {
      "cell_type": "code",
      "source": [
        "!wget \"https://raw.githubusercontent.com/azvox/quran-csv/master/resources/arabic-default.csv\"\n",
        "print(\"Quran text (CSV) successfully downloaded.\")"
      ],
      "metadata": {
        "id": "tqU8Abpx8GmW"
      },
      "execution_count": null,
      "outputs": []
    },
    {
      "cell_type": "markdown",
      "source": [
        "### Acquiring the 99 Attributes of Allah SWT\n",
        "\n",
        "Next, we enrich our dataset with another crucial element: the 99 attributes of Allah SWT. These are sourced from a dedicated repository, which has compiled them with care and respect. You can access this resource at the [99 Names Of Allah Github repository](https://github.com/KabDeveloper/99-Names-Of-Allah).\n",
        "\n",
        "To download this data, use the following command:"
      ],
      "metadata": {
        "id": "sdsayI7ycvWN"
      }
    },
    {
      "cell_type": "code",
      "source": [
        "!wget \"https://raw.githubusercontent.com/KabDeveloper/99-Names-Of-Allah/master/99_Names_Of_Allah.json\"\n",
        "print(\"99 Names of Allah (CSV) successfully downloaded.\")"
      ],
      "metadata": {
        "id": "Qg-LwEsw9aSR"
      },
      "execution_count": null,
      "outputs": []
    },
    {
      "cell_type": "markdown",
      "source": [
        "### Installing PyArabic for Text Processing\n",
        "\n",
        "To enhance our text analysis capabilities, we'll install the [PyArabic](https://pypi.org/project/PyArabic/) library. PyArabic is instrumental in processing Arabic text, particularly in removing diacritics (tashkeel), which simplifies searching and analysis. This step is crucial for accurately parsing and understanding the Quranic text in our study."
      ],
      "metadata": {
        "id": "t44MPxVTCFuc"
      }
    },
    {
      "cell_type": "code",
      "source": [
        "!pip install PyArabic\n",
        "print(\"Libraries installed.\")"
      ],
      "metadata": {
        "id": "QW4jG-VBGQCM"
      },
      "execution_count": null,
      "outputs": []
    },
    {
      "cell_type": "markdown",
      "source": [
        "### Loading the Names of Allah SWT\n",
        "\n",
        "Having downloaded the data, we now turn our attention to loading the beautiful names of Allah SWT from the JSON file we acquired earlier. This step is crucial for integrating these names into our analysis.\n",
        "\n",
        "The following code snippet will load the names and display a preview of the data by showing a few rows:"
      ],
      "metadata": {
        "id": "BpGWbdMDIio-"
      }
    },
    {
      "cell_type": "code",
      "source": [
        "import pandas as pd\n",
        "\n",
        "# Read the JSON file into a df\n",
        "attributes = pd.read_json('99_Names_Of_Allah.json', orient='records')\n",
        "\n",
        "# Normalize the data object into a DF\n",
        "attributes = pd.json_normalize(attributes[\"data\"])\n",
        "\n",
        "# Print the first few rows of the DataFrame\n",
        "print(attributes.head())"
      ],
      "metadata": {
        "id": "wAhCUErTvEx7"
      },
      "execution_count": null,
      "outputs": []
    },
    {
      "cell_type": "markdown",
      "source": [
        "### Preprocessing the Attributes List\n",
        "\n",
        "Before diving into the analysis, it's essential to preprocess the list of Allah SWT's attributes. This preprocessing step involves creating variations of each name that might appear in the Quranic text. Such variations account for different possible forms, ensuring our search and analysis are comprehensive and accurate.\n"
      ],
      "metadata": {
        "id": "20S8yXJxwGFY"
      }
    },
    {
      "cell_type": "code",
      "source": [
        "import pyarabic.araby as araby\n",
        "\n",
        "# الرَّحِيمُ --> الرحيم\n",
        "attributes[\"name_no_diacritics\"] = attributes[\"name\"].apply(\n",
        "    lambda x: araby.strip_diacritics(x)\n",
        ")\n",
        "\n",
        "# الرحيم --> رحيم\n",
        "attributes[\"name_no_leading_al\"] = attributes[\"name_no_diacritics\"].apply(\n",
        "    lambda x: x[2:] if x.startswith('ال') else x\n",
        ")\n",
        "\n",
        "# رحيم --> رحيما\n",
        "attributes[\"name_added_alef\"] = attributes[\"name_no_leading_al\"].apply(\n",
        "    lambda x: x + \"ا\"\n",
        ")\n",
        "\n",
        "# Print the first few rows of the DataFrame\n",
        "print(attributes.head())"
      ],
      "metadata": {
        "id": "yMISpudHvLBN"
      },
      "execution_count": null,
      "outputs": []
    },
    {
      "cell_type": "markdown",
      "source": [
        "### Generating Pairings from the Preprocessed Names\n",
        "\n",
        "After preparing the variations of Allah SWT's attributes, we move to generate all possible pairings from these variations. This crucial step involves creating combinations of the names to reflect their potential pairings as found in the Quran. It's a comprehensive approach to understand how the attributes of Allah are interconnected and presented in various contexts within the Quranic scripture.\n",
        "\n",
        "By generating these pairings, we lay the groundwork for a detailed exploration and analysis of their occurrences and significance throughout the Quran."
      ],
      "metadata": {
        "id": "BJ-5nfYOxFif"
      }
    },
    {
      "cell_type": "code",
      "source": [
        "# define a function to generate combinations from a list with added space in between\n",
        "def generate_pairings(list):\n",
        "  combinations = []\n",
        "  for i in range(len(list)):\n",
        "    for j in range(len(list)):\n",
        "      # avoid generation combinations of the same name\n",
        "      if (i != j):\n",
        "        combinations.append(list[i] + ' ' + list[j])\n",
        "  return combinations\n",
        "\n",
        "# execute on the 3 variation of attributes/names\n",
        "beautiful_names_pairs = []\n",
        "beautiful_names_pairs.extend(generate_pairings(attributes[\"name_no_diacritics\"]))\n",
        "beautiful_names_pairs.extend(generate_pairings(attributes[\"name_no_leading_al\"]))\n",
        "beautiful_names_pairs.extend(generate_pairings(attributes[\"name_added_alef\"]))\n",
        "\n",
        "print(\"Generated \" + str(len(beautiful_names_pairs)) + \" pairings.\")\n",
        "print(beautiful_names_pairs[:5])"
      ],
      "metadata": {
        "id": "ZBcbHkuwxJe1"
      },
      "execution_count": null,
      "outputs": []
    },
    {
      "cell_type": "markdown",
      "source": [
        "### Loading and Processing the Quran Corpus\n",
        "\n",
        "The next phase in our analysis involves loading the content of the Quran corpus. Once loaded, we will create an additional field in our dataset specifically for the text of each verse, but with a significant modification: the removal of diacritics. This step is crucial as it simplifies the text for easier matching with our preprocessed list of Allah's attributes. By doing so, we enhance the accuracy and efficiency of our search for attribute pairings within the Quranic text."
      ],
      "metadata": {
        "id": "BGW4KaHFIwuP"
      }
    },
    {
      "cell_type": "code",
      "source": [
        "# Load the CSV file into a pandas dataframe\n",
        "quran_df = pd.read_csv('arabic-default.csv')\n",
        "\n",
        "# Remove Tashkeel (Diactrictics) from all verses for easier search\n",
        "quran_df[\"content_ar\"] = quran_df[\"content_ar\"].apply(\n",
        "    lambda x: araby.strip_diacritics(x)\n",
        ")\n",
        "\n",
        "# This Quran text contains leading basmallah before the first verse in each surah\n",
        "# To avoid matchint the attributes Rahman and Raheem in every surah.\n",
        "# i.e.: \"بسم الله الرحمن الرحيم الم\"\n",
        "# We will then remove the leading \" بسم الله الرحمن الرحيم\" (with space) from any verses\n",
        "quran_df[\"content_ar\"] = quran_df[\"content_ar\"].str.replace(\"بسم الله الرحمن الرحيم \",\"\")\n",
        "\n",
        "print(\"Quran arabic content loaded and pre-processed. Sample below:\")\n",
        "\n",
        "# Print the first 5 lines as an example\n",
        "print(quran_df.head(10))"
      ],
      "metadata": {
        "id": "rRO7YnKtIfla"
      },
      "execution_count": null,
      "outputs": []
    },
    {
      "cell_type": "markdown",
      "source": [
        "### Filtering Verses Using Pandas Preprocessing\n",
        "\n",
        "Our analysis now takes an intriguing turn with the application of a preprocessing technique using pandas. This method will enable us to filter the verses of the Quran, focusing specifically on those that contain any combination of the beautiful names pairings. By applying this technique, we effectively narrow down our corpus to the most relevant verses, allowing for a more targeted and meaningful analysis of how these pairings are used throughout the Quranic text."
      ],
      "metadata": {
        "id": "MhDq-tO1QaKL"
      }
    },
    {
      "cell_type": "code",
      "source": [
        "# Use the str.contains() method to search for the words in the Name and\n",
        "# City columns of the dataframe. The \\b forces the exact match of the pairing\n",
        "# (issus with سميع علي which is a valid combo matching سميع عليم)\n",
        "# BUG ALERT - if you use \\b in the beginning and end, it will not capture\n",
        "# words where the beginning is ل for example لغفور رحيم\n",
        "# so we only include \\b for an exact match towards the end of the pair\n",
        "matching_pattern = '(' + '|'.join(beautiful_names_pairs) + r')\\b'\n",
        "#matching_pattern = ('|'.join(beautiful_names_pairs))\n",
        "mask = quran_df['content_ar'].str.contains(matching_pattern, case=False)\n",
        "\n",
        "# Filter the dataframe based on the mask\n",
        "filtered_df = quran_df[mask]\n",
        "\n",
        "print(\"Processed \" + str(len(quran_df)) + \" verses and matched \" + str(len(filtered_df)) + \" verses.\")"
      ],
      "metadata": {
        "id": "A78nPvp2QZy7"
      },
      "execution_count": null,
      "outputs": []
    },
    {
      "cell_type": "markdown",
      "source": [
        "### Conducting the Search for Pairings\n",
        "\n",
        "We now embark on the most intensive phase of our project: the search through the Quran corpus for the pairings of Allah's names. Given the vast number of combinations – over 29,000 possible pairings – this process can be quite time-consuming. However, it's a crucial step in our endeavor, as it involves meticulously scouring the text to uncover how these pairings are manifested across different verses and contexts within the Quran."
      ],
      "metadata": {
        "id": "WtHQPw7EJnep"
      }
    },
    {
      "cell_type": "code",
      "source": [
        "# Create an empty list to store the matching values\n",
        "matching_pairs = []\n",
        "\n",
        "# Loop through each row in the dataframe\n",
        "for index, row in filtered_df.iterrows():\n",
        "    # Check if any of the pairings are a partial match for the 'content_ar_no_diacritics' column of the current row\n",
        "    for pair in beautiful_names_pairs:\n",
        "        if pair in row['content_ar']:\n",
        "            # If a match is found, append the value of the 'other_column' to the matching_values list\n",
        "            matching_pairs.append({'pairing': pair, 'verse': row['content_ar'], 'chapter': row['chapter_number'], 'ayah': row['Ayah_number']})\n",
        "            break\n",
        "\n",
        "print(\"Processing completed for \" + str(len(matching_pairs)) + \" pairings.\")"
      ],
      "metadata": {
        "id": "-R27s9FfJn10"
      },
      "execution_count": null,
      "outputs": []
    },
    {
      "cell_type": "markdown",
      "source": [
        "### Inspecting the Results\n",
        "\n",
        "After completing the extensive search, we focus on examining the findings. To provide a glimpse into our results, we showcase a brief preview of the top 5 pairings."
      ],
      "metadata": {
        "id": "CVDFQeoqLgRB"
      }
    },
    {
      "cell_type": "code",
      "source": [
        "for i in range(5):\n",
        "    item = matching_pairs[i]\n",
        "    print(\"Item \", i+1, \":\")\n",
        "    for key, value in item.items():\n",
        "        print(key, \":\", value)\n",
        "    print()"
      ],
      "metadata": {
        "id": "0t_onUPtLj5z"
      },
      "execution_count": null,
      "outputs": []
    },
    {
      "cell_type": "markdown",
      "source": [
        "### Exporting Results to CSV\n",
        "\n",
        "With our findings compiled, the next step is to export these results to a CSV file. This format will facilitate further analysis and sharing of our insights.\n",
        "\n",
        "`TODO` Consider enhancing the analysis process by using pandas DataFrame for statistical analysis directly within this notebook. This approach could streamline the process, eliminating the need to export raw data to a CSV and then analyze it externally in Sheets."
      ],
      "metadata": {
        "id": "ttFWpPBgLjBU"
      }
    },
    {
      "cell_type": "code",
      "source": [
        "from google.colab import files\n",
        "import csv\n",
        "\n",
        "with open('99_names_of_Allah_swt_pairing_analysis_results.csv', 'w', newline='') as csvfile:\n",
        "    fieldnames = ['pairing', 'verse', 'chapter', 'ayah']\n",
        "    writer = csv.DictWriter(csvfile, fieldnames=fieldnames)\n",
        "\n",
        "    writer.writeheader()\n",
        "    for obj in matching_pairs:\n",
        "        writer.writerow(obj)\n",
        "\n",
        "print(\"Resuls exported!\")"
      ],
      "metadata": {
        "id": "YnIwEmoSMLMa"
      },
      "execution_count": null,
      "outputs": []
    },
    {
      "cell_type": "markdown",
      "source": [
        "### Downloading for External Analysis\n",
        "\n",
        "Once the results are exported to a CSV file, you have the option to download this file for additional analysis using tools like Google Sheets. This step allows for a more flexible and detailed examination of the data, leveraging the advanced features of spreadsheet software to draw deeper insights and conclusions from our findings."
      ],
      "metadata": {
        "id": "kr7OhKmaQM65"
      }
    },
    {
      "cell_type": "code",
      "source": [
        "# Downoad the file locally\n",
        "files.download('99_names_of_Allah_swt_pairing_analysis_results.csv')"
      ],
      "metadata": {
        "id": "Eq6W5CoGQPVC"
      },
      "execution_count": null,
      "outputs": []
    },
    {
      "cell_type": "markdown",
      "source": [
        "### Conclusion and Next Steps\n",
        "\n",
        "That's it! Jazak Allahu Khairan (JAK) for reading and engaging with this project. Alhamdulillah, we have reached a significant milestone in our exploration of the Quran.\n",
        "\n",
        "The journey doesn't end here, though. The next step involves delving into the books of tafsir (interpretations of the Quran) and analyzing the pairings in the context of the verses that include them. This deeper exploration will help us understand the significance of these pairings and the profound messages they convey within the Quran.\n",
        "\n",
        "Thank you for joining me on this enlightening journey. May our continued efforts bring us closer to comprehending the wisdom of the Quran."
      ],
      "metadata": {
        "id": "fbwA1VejMMML"
      }
    }
  ]
}